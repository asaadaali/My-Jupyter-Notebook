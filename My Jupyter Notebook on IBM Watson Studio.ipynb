{
 "cells": [
  {
   "cell_type": "markdown",
   "id": "0b68e8e8-d5a8-49b1-a1de-6186543ab00f",
   "metadata": {},
   "source": [
    "# My Jupyter Notebook on IBM Watson Studio"
   ]
  },
  {
   "cell_type": "markdown",
   "id": "1953a110-4991-4917-8a39-e601e7d5cdf5",
   "metadata": {},
   "source": [
    "**Asad Ali**\n",
    "\n",
    "I am working as a Content Writer.\n",
    "\n",
    "I want to be a Data Scientist.\n"
   ]
  },
  {
   "cell_type": "markdown",
   "id": "4e89ee39-e9c7-4059-96d2-d607ba772269",
   "metadata": {},
   "source": [
    "*I am interested in data science because I am curious and I love to tell stories. Also, I am passionate about data science tools and models.*"
   ]
  },
  {
   "cell_type": "markdown",
   "id": "11880d00-e8df-4193-b604-a519a917090e",
   "metadata": {},
   "source": [
    "### My code will perform a simple addition operation."
   ]
  },
  {
   "cell_type": "code",
   "execution_count": 1,
   "id": "2fa1430b-c925-485b-b7df-1a8e1f049502",
   "metadata": {},
   "outputs": [
    {
     "name": "stdout",
     "output_type": "stream",
     "text": [
      "15\n"
     ]
    }
   ],
   "source": [
    "print(1+2+3+4+5)"
   ]
  },
  {
   "cell_type": "markdown",
   "id": "23811180-af3e-45da-b5fe-e39d95107c55",
   "metadata": {},
   "source": [
    "1. First name in the list\n",
    "2. Second name in the list\n",
    "3. Third name in the list\n",
    "\n",
    "+ A\n",
    "+ B\n",
    "\n",
    "- A\n",
    "- B\n",
    "\n",
    "* Apple\n",
    "* Ball\n",
    "\n",
    "***\n",
    "\n",
    "| Tables  | Are  | Interesting  |\n",
    "| -----   | ---  | ----------   |\n",
    "| 3       | 4    | 5            |\n",
    "| 2       | 1    | 0            |\n",
    "\n",
    "***\n",
    "\n",
    "[You can open Google](https://www.google.com)\n",
    "\n",
    "> This is so exciting."
   ]
  },
  {
   "cell_type": "code",
   "execution_count": null,
   "id": "8725c436-9a52-4541-ba31-25baee869c1f",
   "metadata": {},
   "outputs": [],
   "source": []
  }
 ],
 "metadata": {
  "kernelspec": {
   "display_name": "Python",
   "language": "python",
   "name": "conda-env-python-py"
  },
  "language_info": {
   "codemirror_mode": {
    "name": "ipython",
    "version": 3
   },
   "file_extension": ".py",
   "mimetype": "text/x-python",
   "name": "python",
   "nbconvert_exporter": "python",
   "pygments_lexer": "ipython3",
   "version": "3.7.12"
  }
 },
 "nbformat": 4,
 "nbformat_minor": 5
}
